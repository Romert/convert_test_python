{
 "cells": [
  {
   "cell_type": "code",
   "execution_count": 1,
   "id": "3bbac359-e46f-452e-891f-82abd0f57bc9",
   "metadata": {},
   "outputs": [],
   "source": [
    "from openpyxl import load_workbook\n",
    "import re"
   ]
  },
  {
   "cell_type": "code",
   "execution_count": 2,
   "id": "0f371450-99e3-4484-b025-ee13a7810051",
   "metadata": {},
   "outputs": [],
   "source": [
    "class Convert:\n",
    "    def egress (self, namespace, name_policy,  number, proto, app, endpoin, port):\n",
    "        if (endpoin.endswith(\"/32\") == True):\n",
    "            # Значение является CIDR\n",
    "            with open(f\"{name_policy}.yml\", \"a\") as file:\n",
    "                file.write(\"apiVersion: cilium.io/v2\\n\" + \"kind: CiliumNetworkPolicy\\n\" + \"metadata:\\n\" + 2*\"\\xa0\" + f\"name: {name_policy}-{number}\\n\"+ 2*\"\\xa0\" + f\"namespace: {namespace}\\n\" + \"spec:\\n\" + 2*\"\\xa0\" + \"endpointSelector:\\n\" + 4*\"\\xa0\" + \"matchLabels:\\n\" + 6*\"\\xa0\" + f\"app: {app}\\n\" + 2*\"\\xa0\" + \"ingress:\\n\" + 4*\"\\xa0\" + \"- {}\\n\" + 2*\"\\xa0\" + \"egress:\\n\" + 4*\"\\xa0\" + \"- toCIDRSet:\\n\"  + 8*\"\\xa0\" + f\"- cidr: {endpoin}\\n\" + 6*\"\\xa0\" + \"toPorts:\\n\" + 8*\"\\xa0\" + \"- ports:\\n\" + 12*\"\\xa0\" + f\"- port: \\\"{port}\\\"\\n\" + 14*\"\\xa0\" + f\"protocol: {proto}\\n\" + \"\\n---\\n\")\n",
    "        elif (endpoin.find(\"gazprom-neft.local\") == True):\n",
    "            # Значение является FQDN\n",
    "            with open(f\"{name_policy}.yml\", \"a\") as file:\n",
    "                file.write(\"apiVersion: cilium.io/v2\\n\" + \"kind: CiliumNetworkPolicy\\n\" + \"metadata:\\n\" + 2*\"\\xa0\" + f\"name: {name_policy}-{number}\\n\"+ 2*\"\\xa0\" + f\"namespace: {namespace}\\n\" + \"spec:\\n\" + 2*\"\\xa0\" + \"endpointSelector:\\n\" + 4*\"\\xa0\" + \"matchLabels:\\n\" + 6*\"\\xa0\" + f\"app: {app}\\n\" + 2*\"\\xa0\" + \"ingress:\\n\" + 4*\"\\xa0\" + \"- {}\\n\" + 2*\"\\xa0\" + \"egress:\\n\" + 4*\"\\xa0\" + \"- toFQDNs:\\n\"  + 8*\"\\xa0\" + f\"- matchName: {endpoin}\\n\" + 6*\"\\xa0\" + \"toPorts:\\n\" + 8*\"\\xa0\" + \"- ports:\\n\" + 12*\"\\xa0\" + f\"- port: \\\"{port}\\\"\\n\" + 14*\"\\xa0\" + f\"protocol: {proto}\\n\" + \"\\n---\\n\")\n",
    "        elif (endpoin.find(\"/\") == True):\n",
    "            # Значение является Namespace/app\n",
    "            with open(f\"{name_policy}.yml\", \"a\") as file:\n",
    "                file.write(\"apiVersion: cilium.io/v2\\n\" + \"kind: CiliumNetworkPolicy\\n\" + \"metadata:\\n\" + 2*\"\\xa0\" + f\"name: {name_policy}-{number}\\n\"+ 2*\"\\xa0\" + f\"namespace: {namespace}\\n\" + \"spec:\\n\" + 2*\"\\xa0\" + \"endpointSelector:\\n\" + 4*\"\\xa0\" + \"matchLabels:\\n\" + 6*\"\\xa0\" + f\"app: {app}\\n\" + 2*\"\\xa0\" + \"ingress:\\n\" + 4*\"\\xa0\" + \"- {}\\n\" + 2*\"\\xa0\" + \"egress:\\n\" + 4*\"\\xa0\" + \"- toEndpoints:\\n\"  + 8*\"\\xa0\" + \"- matchLabels:\\n\" + 12*\"\\xa0\" + f\"app: {endpoin}\\n\" + 12*\"\\xa0\" + f\"io.kubernetes.pod.namespace: {namespace}\" + 6*\"\\xa0\" + \"toPorts:\\n\" + 8*\"\\xa0\" + \"- ports:\\n\" + 12*\"\\xa0\" + f\"- port: \\\"{port}\\\"\\n\" + 14*\"\\xa0\" + f\"protocol: {proto}\\n\" + \"\\n---\\n\")\n",
    "        elif (endpoin.find(\"app:\")):\n",
    "            # Значение является app= в рамках текущего namespace\n",
    "            with open(f\"{name_policy}.yml\", \"a\") as file:\n",
    "                file.write(\"apiVersion: cilium.io/v2\\n\" + \"kind: CiliumNetworkPolicy\\n\" + \"metadata:\\n\" + 2*\"\\xa0\" + f\"name: {name_policy}-{number}\\n\"+ 2*\"\\xa0\" + f\"namespace: {namespace}\\n\" + \"spec:\\n\" + 2*\"\\xa0\" + \"endpointSelector:\\n\" + 4*\"\\xa0\" + \"matchLabels:\\n\" + 6*\"\\xa0\" + f\"app: {app}\\n\" + 2*\"\\xa0\" + \"ingress:\\n\" + 4*\"\\xa0\" + \"- {}\\n\" + 2*\"\\xa0\" + \"egress:\\n\" + 4*\"\\xa0\" + \"- toEndpoints:\\n\"  + 8*\"\\xa0\" + \"- matchLabels:\\n\" + 12*\"\\xa0\" + f\"app: {endpoin}\\n\" + 6*\"\\xa0\" + \"toPorts:\\n\" + 8*\"\\xa0\" + \"- ports:\\n\" + 12*\"\\xa0\" + f\"- port: \\\"{port}\\\"\\n\" + 14*\"\\xa0\" + f\"protocol: {proto}\\n\" + \"\\n---\\n\")\n",
    "        else:\n",
    "            # Значение является app= в рамках текущего namespace\n",
    "            with open(\"hello.txt\", \"a\") as file:\n",
    "                file.write(4*\"\\xa0\" + \"- toEndpoints:\\n\"  + 8*\"\\xa0\" + \"- matchLabels:\\n\" + 12*\"\\xa0\" + f\"app: {endpoin}\\n\" + 6*\"\\xa0\" + \"toPorts:\\n\" + 8*\"\\xa0\" + \"- ports:\\n\" + 12*\"\\xa0\" + f\"- port: \\\"{port}\\\"\\n\" + 14*\"\\xa0\" + f\"protocol: {proto}\\n\" + \"\\n---\\n\")\n",
    "    def ingress (self, namespace, name_policy, number, proto, app, endpoin, port):\n",
    "        if (endpoin.endswith(\"/32\") == True):\n",
    "            # Значение является CIDR\n",
    "            with open(f\"{name_policy}.yml\", \"a\") as file:\n",
    "                file.write(\"apiVersion: cilium.io/v2\\n\" + \"kind: CiliumNetworkPolicy\\n\" + \"metadata:\\n\" + 2*\"\\xa0\" + f\"name: {name_policy}-{number}\\n\"+ 2*\"\\xa0\" + f\"namespace: {namespace}\\n\" + \"spec:\\n\" + 2*\"\\xa0\" + \"endpointSelector:\\n\" + 4*\"\\xa0\" + \"matchLabels:\\n\" + 6*\"\\xa0\" + f\"app: {app}\\n\" + 2*\"\\xa0\" + \"ingress:\\n\" + 4*\"\\xa0\" + \"- fromCIDRSet:\\n\"  + 8*\"\\xa0\" + f\"- cidr: {endpoin}\\n\" + 6*\"\\xa0\" + \"toPorts:\\n\" + 8*\"\\xa0\" + \"- ports:\\n\" + 12*\"\\xa0\" + f\"- port: \\\"{port}\\\"\\n\" + 14*\"\\xa0\" + f\"protocol: {proto}\\n\" +  \"egress:\\n\" + 4*\"\\xa0\" + \"- {}\\n\" + \"\\n---\\n\")\n",
    "        elif (endpoin.find(\"gazprom-neft.local\") != -1):\n",
    "            # Значение является FQDN\n",
    "            with open(f\"{name_policy}.yml\", \"a\") as file:\n",
    "                file.write(\"FQDN не может указываться при значении ingress в качестве источника трафика. Необходимо указание по CIDR или по Namespace/app.\" + f\" Ошибка в строчке {number}\" + \"\\n---\\n\")\n",
    "        elif (endpoin.find(\"/\") == True):\n",
    "            # Значение является Namespace/app\n",
    "            with open(f\"{name_policy}.yml\", \"a\") as file:\n",
    "                file.write(\"apiVersion: cilium.io/v2\\n\" + \"kind: CiliumNetworkPolicy\\n\" + \"metadata:\\n\" + 2*\"\\xa0\" + f\"name: {name_policy}-{number}\\n\"+ 2*\"\\xa0\" + f\"namespace: {namespace}\\n\" + \"spec:\\n\" + 2*\"\\xa0\" + \"endpointSelector:\\n\" + 4*\"\\xa0\" + \"matchLabels:\\n\" + 6*\"\\xa0\" + f\"app: {app}\\n\" + 2*\"\\xa0\" + \"ingress:\\n\" + 4*\"\\xa0\" + \"- fromEndpoints:\\n\"  + 8*\"\\xa0\" + \"- matchLabels:\\n\" + 12*\"\\xa0\" + f\"app: {endpoin}\\n\" + 12*\"\\xa0\" + f\"io.kubernetes.pod.namespace: {namespace}\" + 6*\"\\xa0\" + \"toPorts:\\n\" + 8*\"\\xa0\" + \"- ports:\\n\" + 12*\"\\xa0\" + f\"- port: \\\"{port}\\\"\\n\" + 14*\"\\xa0\" + f\"protocol: {proto}\\n\" +  \"egress:\\n\" + 4*\"\\xa0\" + \"- {}\\n\" + \"\\n---\\n\")\n",
    "        elif (endpoin.find(\"app:\")):\n",
    "            # Значение является app= в рамках текущего namespace\n",
    "            with open(f\"{name_policy}.yml\", \"a\") as file:\n",
    "                file.write(\"apiVersion: cilium.io/v2\\n\" + \"kind: CiliumNetworkPolicy\\n\" + \"metadata:\\n\" + 2*\"\\xa0\" + f\"name: {name_policy}-{number}\\n\"+ 2*\"\\xa0\" + f\"namespace: {namespace}\\n\" + \"spec:\\n\" + 2*\"\\xa0\" + \"endpointSelector:\\n\" + 4*\"\\xa0\" + \"matchLabels:\\n\" + 6*\"\\xa0\" + f\"app: {app}\\n\" + 2*\"\\xa0\" + \"ingress:\\n\" + 4*\"\\xa0\" + \"- fromEndpoints:\\n\"  + 8*\"\\xa0\" + \"- matchLabels:\\n\" + 12*\"\\xa0\" + f\"app: {endpoin}\\n\" + 6*\"\\xa0\" + \"toPorts:\\n\" + 8*\"\\xa0\" + \"- ports:\\n\" + 12*\"\\xa0\" + f\"- port: \\\"{port}\\\"\\n\" + 14*\"\\xa0\" + f\"protocol: {proto}\\n\" +  \"egress:\\n\" + 4*\"\\xa0\" + \"- {}\\n\" + \"\\n---\\n\")\n",
    "        else:\n",
    "            # Значение является app= в рамках текущего namespace\n",
    "            with open(f\"{name_policy}.yml\", \"a\") as file:\n",
    "                file.write(\"apiVersion: cilium.io/v2\\n\" + \"kind: CiliumNetworkPolicy\\n\" + \"metadata:\\n\" + 2*\"\\xa0\" + f\"name: {name_policy}-{number}\\n\"+ 2*\"\\xa0\" + f\"namespace: {namespace}\\n\" + \"spec:\\n\" + 2*\"\\xa0\" + \"endpointSelector:\\n\" + 4*\"\\xa0\" + \"matchLabels:\\n\" + 6*\"\\xa0\" + f\"app: {app}\\n\" + 2*\"\\xa0\" + \"ingress:\\n\" + 4*\"\\xa0\" + \"- fromEndpoints:\\n\"  + 8*\"\\xa0\" + \"- matchLabels:\\n\" + 12*\"\\xa0\" + f\"app: {endpoin}\\n\" + 6*\"\\xa0\" + \"toPorts:\\n\" + 8*\"\\xa0\" + \"- ports:\\n\" + 12*\"\\xa0\" + f\"- port: \\\"{port}\\\"\\n\" + 14*\"\\xa0\" + f\"protocol: {proto}\\n\" +  \"egress:\\n\" + 4*\"\\xa0\" + \"- {}\\n\" + \"\\n---\\n\")\n",
    "    def err (self,name_policy, number):\n",
    "        with open(f\"{name_policy}.yml\", \"a\") as file:\n",
    "            file.write(\"\\n Ошибка чтения значения ingress/egress в строке = \" + f\"{number}\" + 2*\"\\n\")"
   ]
  },
  {
   "cell_type": "code",
   "execution_count": 22,
   "id": "6e7ffdcf-6e1e-4e7a-812b-c16e7b76a1bf",
   "metadata": {},
   "outputs": [],
   "source": [
    "class Convert2:\n",
    "    def yml(self, namespace, name_policy, number, proto, app, endpoin, port, ing_egr, type_endpoin):\n",
    "        if ing_egr == \"egress\":\n",
    "            # Значение является CIDR\n",
    "            if (type_endpoin == \"CIDR\"):\n",
    "                with open(f\"{name_policy}.yml\", \"a\") as file:\n",
    "                    file.write(\"apiVersion: cilium.io/v2\\n\" + \"kind: CiliumNetworkPolicy\\n\" + \"metadata:\\n\" + 2*\"\\xa0\" + f\"name: {name_policy}-{number}\\n\"+ 2*\"\\xa0\" + f\"namespace: {namespace}\\n\" + \"spec:\\n\" + 2*\"\\xa0\" + \"endpointSelector:\\n\" + 4*\"\\xa0\" + \"matchLabels:\\n\" + 6*\"\\xa0\" + f\"app: {app}\\n\" + 2*\"\\xa0\" + \"ingress:\\n\" + 4*\"\\xa0\" + \"- {}\\n\" + 2*\"\\xa0\" + \"egress:\\n\" + 4*\"\\xa0\" + \"- toCIDRSet:\\n\"  + 8*\"\\xa0\" + f\"- cidr: {endpoin}\\n\" + 6*\"\\xa0\" + \"toPorts:\\n\" + 8*\"\\xa0\" + \"- ports:\\n\" + 12*\"\\xa0\" + f\"- port: \\\"{port}\\\"\\n\" + 14*\"\\xa0\" + f\"protocol: {proto}\\n\" + \"\\n---\\n\")\n",
    "            # Значение является FQDN\n",
    "            elif (type_endpoin == \"FQDN\"):\n",
    "                with open(f\"{name_policy}.yml\", \"a\") as file:\n",
    "                    file.write(\"apiVersion: cilium.io/v2\\n\" + \"kind: CiliumNetworkPolicy\\n\" + \"metadata:\\n\" + 2*\"\\xa0\" + f\"name: {name_policy}-{number}\\n\"+ 2*\"\\xa0\" + f\"namespace: {namespace}\\n\" + \"spec:\\n\" + 2*\"\\xa0\" + \"endpointSelector:\\n\" + 4*\"\\xa0\" + \"matchLabels:\\n\" + 6*\"\\xa0\" + f\"app: {app}\\n\" + 2*\"\\xa0\" + \"ingress:\\n\" + 4*\"\\xa0\" + \"- {}\\n\" + 2*\"\\xa0\" + \"egress:\\n\" + 4*\"\\xa0\" + \"- toFQDNs:\\n\"  + 8*\"\\xa0\" + f\"- matchName: {endpoin}\\n\" + 6*\"\\xa0\" + \"toPorts:\\n\" + 8*\"\\xa0\" + \"- ports:\\n\" + 12*\"\\xa0\" + f\"- port: \\\"{port}\\\"\\n\" + 14*\"\\xa0\" + f\"protocol: {proto}\\n\" + \"\\n---\\n\")\n",
    "            # Значение является Namespace/app\n",
    "            elif (type_endpoin == \"NS\"):\n",
    "                with open(f\"{name_policy}.yml\", \"a\") as file:\n",
    "                    file.write(\"apiVersion: cilium.io/v2\\n\" + \"kind: CiliumNetworkPolicy\\n\" + \"metadata:\\n\" + 2*\"\\xa0\" + f\"name: {name_policy}-{number}\\n\"+ 2*\"\\xa0\" + f\"namespace: {namespace}\\n\" + \"spec:\\n\" + 2*\"\\xa0\" + \"endpointSelector:\\n\" + 4*\"\\xa0\" + \"matchLabels:\\n\" + 6*\"\\xa0\" + f\"app: {app}\\n\" + 2*\"\\xa0\" + \"ingress:\\n\" + 4*\"\\xa0\" + \"- {}\\n\" + 2*\"\\xa0\" + \"egress:\\n\" + 4*\"\\xa0\" + \"- toEndpoints:\\n\"  + 8*\"\\xa0\" + \"- matchLabels:\\n\" + 12*\"\\xa0\" + f\"app: {endpoin[0]}\\n\" + 12*\"\\xa0\" + f\"io.kubernetes.pod.namespace: {endpoin[1]}\\n\" + 6*\"\\xa0\" + \"toPorts:\\n\" + 8*\"\\xa0\" + \"- ports:\\n\" + 12*\"\\xa0\" + f\"- port: \\\"{port}\\\"\\n\" + 14*\"\\xa0\" + f\"protocol: {proto}\\n\" + \"\\n---\\n\")\n",
    "            # Значение является значением с меткой в рамках текущего namespace\n",
    "            elif (type_endpoin == \"APP\"):\n",
    "                with open(f\"{name_policy}.yml\", \"a\") as file:\n",
    "                    file.write(\"apiVersion: cilium.io/v2\\n\" + \"kind: CiliumNetworkPolicy\\n\" + \"metadata:\\n\" + 2*\"\\xa0\" + f\"name: {name_policy}-{number}\\n\"+ 2*\"\\xa0\" + f\"namespace: {namespace}\\n\" + \"spec:\\n\" + 2*\"\\xa0\" + \"endpointSelector:\\n\" + 4*\"\\xa0\" + \"matchLabels:\\n\" + 6*\"\\xa0\" + f\"app: {app}\\n\" + 2*\"\\xa0\" + \"ingress:\\n\" + 4*\"\\xa0\" + \"- {}\\n\" + 2*\"\\xa0\" + \"egress:\\n\" + 4*\"\\xa0\" + \"- toEndpoints:\\n\"  + 8*\"\\xa0\" + \"- matchLabels:\\n\" + 12*\"\\xa0\" + f\"{endpoin[0]}: {endpoin[1]}\\n\" + 6*\"\\xa0\" + \"toPorts:\\n\" + 8*\"\\xa0\" + \"- ports:\\n\" + 12*\"\\xa0\" + f\"- port: \\\"{port}\\\"\\n\" + 14*\"\\xa0\" + f\"protocol: {proto}\\n\" + \"\\n---\\n\")\n",
    "            elif (type_endpoin == \"Error\"):\n",
    "                print (\"Ошибка в разделении endpoin = \" + str(text))\n",
    "                return \"Error\"\n",
    "            else:\n",
    "                return \"Error\""
   ]
  },
  {
   "cell_type": "code",
   "execution_count": 4,
   "id": "3834c5ee-9085-412c-b0d5-6884e617fd8b",
   "metadata": {},
   "outputs": [],
   "source": [
    "#Класс для определения значения endpoint\n",
    "class Valid:\n",
    "    def valid_endpoint (self, endpoin):\n",
    "        if (re.search(r'\\d+\\.+\\d+\\.+\\d+\\.+\\d+\\d+\\/32', endpoin) != None):\n",
    "            return \"CIDR\"\n",
    "        elif(re.search(r'\\S+\\.+gazprom-neft+\\.+local', endpoin) != None):\n",
    "            return \"FQDN\"\n",
    "        elif(re.search (r'\\D+\\/+\\D', endpoin) != None):\n",
    "            return \"NS\"\n",
    "        elif(re.search(r'\\S+\\:+\\S', endpoin) != None):\n",
    "            return \"APP\"\n",
    "        else:\n",
    "            print (\"Ошибка в обработке endpoin = \" + str(endpoin))\n",
    "            return \"Error\""
   ]
  },
  {
   "cell_type": "code",
   "execution_count": 5,
   "id": "2ba96102-9575-4c4e-9571-7eb7efa25c40",
   "metadata": {},
   "outputs": [],
   "source": [
    "class SplitTXT:\n",
    "    def split_text (self, text, type_endpoin):\n",
    "        text = text.lower()        \n",
    "        if (type_endpoin == \"namespace\"):\n",
    "            return namespace[text.find('u'):len(text)]\n",
    "        elif (type_endpoin == \"CIDR\"):\n",
    "            return text\n",
    "        elif (type_endpoin == \"FQDN\"):\n",
    "            return text\n",
    "        elif (type_endpoin == \"NS\"):\n",
    "            return re.split(r'/', text)\n",
    "        elif (type_endpoin == \"APP\"):\n",
    "            return re.split(r':', text)\n",
    "        elif (type_endpoin == \"Error\"):\n",
    "            print (\"Ошибка в разделении endpoin = \" + str(text))\n",
    "            return \"Error\"\n",
    "        else:\n",
    "            return \"Error\""
   ]
  },
  {
   "cell_type": "code",
   "execution_count": 6,
   "id": "445f988e-7b5a-44ae-85b7-579f4149164c",
   "metadata": {},
   "outputs": [],
   "source": [
    "# Инициализация чтения таблицы\n",
    "file_path = \"cilium.xlsx\"\n",
    "workbook = load_workbook(filename=file_path, data_only=True, read_only=True)\n",
    "workbook.sheetnames\n",
    "sheet = workbook.active"
   ]
  },
  {
   "cell_type": "code",
   "execution_count": 7,
   "id": "cae6c543-e85b-48a0-a086-f7dd79c2a734",
   "metadata": {},
   "outputs": [],
   "source": [
    "# Ининциализация классов\n",
    "convert = Convert()\n",
    "#conv = Convert2()\n",
    "valid = Valid()\n",
    "split = SplitTXT()"
   ]
  },
  {
   "cell_type": "code",
   "execution_count": 8,
   "id": "6671cb9f-ed20-4336-9883-6929af058c54",
   "metadata": {},
   "outputs": [],
   "source": [
    "# Получение namespace из объединеннной строки под индексом А2x\n",
    "namespace = sheet[\"A2\"].value\n",
    "#namespace = namespace.lower()\n",
    "#len_namespace = len(namespace)\n",
    "#index_u = namespace.find('u')\n",
    "#namespace = namespace[index_u:len_namespace]\n",
    "namespace = split.split_text(namespace, \"namespace\")"
   ]
  },
  {
   "cell_type": "code",
   "execution_count": 9,
   "id": "35b118ce-d98e-4900-8be1-a81c0ad4ad34",
   "metadata": {},
   "outputs": [],
   "source": [
    "# Создание номера правила из имени файла\n",
    "name_policy = file_path[0:file_path.find(\".\")].lower()"
   ]
  },
  {
   "cell_type": "code",
   "execution_count": 10,
   "id": "e3d6b945-5cc6-4da5-b55e-586681800b0b",
   "metadata": {},
   "outputs": [],
   "source": [
    "# Тест регулярки класса valid\n",
    "#n = 7\n",
    "#number = sheet[\"A\"+str(n)].value\n",
    "#proto = sheet[\"B\"+str(n)].value \n",
    "#app = sheet[\"C\"+str(n)].value \n",
    "#endpoin = sheet[\"E\"+str(n)].value\n",
    "#port = sheet[\"F\"+str(n)].value\n",
    "#res_ip = re.search(r'\\d+\\.+\\d+\\.+\\d+\\.+\\d+\\d+\\/32', endpoin)\n",
    "#res_fqdn = re.search(r'\\S+\\.+gazprom-neft+\\.+local', endpoin)\n",
    "#res_namesp = re.search (r'\\D+\\/+\\D', endpoin)\n",
    "#res_app = re.search(r'app:+\\S', endpoin)\n",
    "#print ('В строчке = ' + str(n) + '\\nres_fqdn = ' + str(res_fqdn) + '\\nres_ip = ' + str(res_ip) + '\\nres_namesp = ' + str(res_namesp) + \"\\nres_app = \" + str(res_app) + 2*\"\\n\")\n",
    "#print (\"Endpoin = \" + str(endpoin) + \"\\n\" + str(valid.valid_endpoint(endpoin)))"
   ]
  },
  {
   "cell_type": "code",
   "execution_count": 38,
   "id": "f5fa95da-6b39-4f38-bdcf-f027eee78473",
   "metadata": {},
   "outputs": [
    {
     "name": "stdout",
     "output_type": "stream",
     "text": [
      "d8-kube\n"
     ]
    }
   ],
   "source": [
    "# Тест класса SplitTXT\n",
    "n = 4\n",
    "#number = sheet[\"A\"+str(n)].value\n",
    "#proto = sheet[\"B\"+str(n)].value \n",
    "#app = sheet[\"C\"+str(n)].value \n",
    "endpoin = sheet[\"E\"+str(n)].value\n",
    "#port = sheet[\"F\"+str(n)].value\n",
    "type_text = str(valid.valid_endpoint(endpoin))\n",
    "#print (type_text)\n",
    "endpoin1 = (split.split_text(endpoin , type_text))\n",
    "print (endpoin1[0])"
   ]
  },
  {
   "cell_type": "code",
   "execution_count": 13,
   "id": "a9258004-83f0-4259-946b-fabd6185f397",
   "metadata": {},
   "outputs": [],
   "source": [
    "# Тест класса Convert2\n",
    "conv = Convert2()\n",
    "i = 3\n",
    "#number = sheet[\"A\"+str(i)].value\n",
    "#proto = sheet[\"B\"+str(i)].value \n",
    "#app = sheet[\"C\"+str(i)].value\n",
    "#endpoin = sheet[\"E\"+str(i)].value\n",
    "#port = sheet[\"F\"+str(i)].value\n",
    "#type_endpoin = str(valid.valid_endpoint(endpoin))\n",
    "#conv.yml(namespace, name_policy, sheet[\"A\"+str(i)].value, sheet[\"B\"+str(i)].value, sheet[\"C\"+str(i)].value, split.split_text(endpoin , type_text), sheet[\"F\"+str(i)].value, sheet[\"D\"+str(i)].value, type_endpoin)"
   ]
  },
  {
   "cell_type": "code",
   "execution_count": null,
   "id": "30ef5536-57c0-4f30-aa4f-c65be405b187",
   "metadata": {},
   "outputs": [],
   "source": []
  },
  {
   "cell_type": "code",
   "execution_count": null,
   "id": "111e4940-0e3a-4a7c-8b43-ce23a59ed68c",
   "metadata": {},
   "outputs": [],
   "source": []
  },
  {
   "cell_type": "code",
   "execution_count": null,
   "id": "f90eec25-5d5c-4a35-85ae-77333fada68a",
   "metadata": {},
   "outputs": [],
   "source": []
  },
  {
   "cell_type": "code",
   "execution_count": 24,
   "id": "e22a578d-0492-4c60-9f73-e8301d408bf9",
   "metadata": {},
   "outputs": [],
   "source": [
    "# Перебор строк в таблитце до первой пустой строки. Начало с 3 строки таблицы включительно\n",
    "conv = Convert2()\n",
    "i = 3\n",
    "while sheet[f'A{i}'].value is not None:\n",
    "    number = sheet[\"A\"+str(i)].value\n",
    "    proto = sheet[\"B\"+str(i)].value \n",
    "    app = sheet[\"C\"+str(i)].value\n",
    "    endpoin = sheet[\"E\"+str(i)].value\n",
    "    port = sheet[\"F\"+str(i)].value\n",
    "    ing_egr = sheet[\"D\"+str(i)].value\n",
    "    type_endpoin = str(valid.valid_endpoint(endpoin))\n",
    "    #(self, namespace, name_policy, number, proto, app, endpoin, port, ing_egr, type_endpoin)\n",
    "    conv.yml(namespace, name_policy, number, proto, app, split.split_text(endpoin , type_text), port, ing_egr, type_endpoin)\n",
    "    i += 1\n",
    "#    if  sheet[\"D\"+str(i)].value == \"ingress\":\n",
    "#        convert.ingress (namespace, name_policy, sheet[\"A\"+str(i)].value, sheet[\"B\"+str(i)].value, sheet[\"C\"+str(i)].value, sheet[\"E\"+str(i)].value, sheet[\"F\"+str(i)].value)\n",
    "#    elif sheet[\"D\"+str(i)].value == \"egress\":\n",
    "#        convert.egress (namespace, name_policy, sheet[\"A\"+str(i)].value, sheet[\"B\"+str(i)].value, sheet[\"C\"+str(i)].value, sheet[\"E\"+str(i)].value, sheet[\"F\"+str(i)].value)\n",
    "#    else:\n",
    "#        convert.err (name_policy, sheet[\"A\"+str(i)].value)\n",
    "#    i += 1\n",
    "\n"
   ]
  },
  {
   "cell_type": "code",
   "execution_count": null,
   "id": "6be12b83-8e22-47d3-b383-60de2462121c",
   "metadata": {},
   "outputs": [],
   "source": []
  },
  {
   "cell_type": "code",
   "execution_count": null,
   "id": "a22686df-1da6-4a5b-bda5-a34e4bc81d76",
   "metadata": {},
   "outputs": [],
   "source": []
  },
  {
   "cell_type": "code",
   "execution_count": null,
   "id": "c845ca2b-fcd0-4240-b773-d29a347887c0",
   "metadata": {},
   "outputs": [],
   "source": []
  },
  {
   "cell_type": "code",
   "execution_count": 65,
   "id": "dc910eb1-0b9e-4114-95b7-9b6b417709f1",
   "metadata": {},
   "outputs": [],
   "source": [
    "# Закрытие файла excel таблицы\n",
    "workbook.close()"
   ]
  },
  {
   "cell_type": "code",
   "execution_count": null,
   "id": "a92b5535-b95d-4714-afdc-a261b53ba888",
   "metadata": {},
   "outputs": [],
   "source": []
  }
 ],
 "metadata": {
  "kernelspec": {
   "display_name": "Python 3 (ipykernel)",
   "language": "python",
   "name": "python3"
  },
  "language_info": {
   "codemirror_mode": {
    "name": "ipython",
    "version": 3
   },
   "file_extension": ".py",
   "mimetype": "text/x-python",
   "name": "python",
   "nbconvert_exporter": "python",
   "pygments_lexer": "ipython3",
   "version": "3.12.8"
  }
 },
 "nbformat": 4,
 "nbformat_minor": 5
}
