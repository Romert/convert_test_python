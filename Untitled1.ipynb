{
 "cells": [
  {
   "cell_type": "code",
   "execution_count": null,
   "id": "3bbac359-e46f-452e-891f-82abd0f57bc9",
   "metadata": {},
   "outputs": [],
   "source": [
    "from openpyxl import load_workbook"
   ]
  },
  {
   "cell_type": "code",
   "execution_count": 61,
   "id": "0f371450-99e3-4484-b025-ee13a7810051",
   "metadata": {},
   "outputs": [],
   "source": [
    "class Convert:\n",
    "    def egress (self, namespace, name_policy,  number, proto, app, endpoin, port):\n",
    "        if (endpoin.endswith(\"/32\") == True):\n",
    "            # Значение является CIDR\n",
    "            with open(f\"{name_policy}.yml\", \"a\") as file:\n",
    "                file.write(\"apiVersion: cilium.io/v2\\n\" + \"kind: CiliumNetworkPolicy\\n\" + \"metadata:\\n\" + 2*\"\\xa0\" + f\"name: {name_policy}-{number}\\n\"+ 2*\"\\xa0\" + f\"namespace: {namespace}\\n\" + \"spec:\\n\" + 2*\"\\xa0\" + \"endpointSelector:\\n\" + 4*\"\\xa0\" + \"matchLabels:\\n\" + 6*\"\\xa0\" + f\"app: {app}\\n\" + 2*\"\\xa0\" + \"ingress:\\n\" + 4*\"\\xa0\" + \"- {}\\n\" + 2*\"\\xa0\" + \"egress:\\n\" + 4*\"\\xa0\" + \"- toCIDRSet:\\n\"  + 8*\"\\xa0\" + f\"- cidr: {endpoin}\\n\" + 6*\"\\xa0\" + \"toPorts:\\n\" + 8*\"\\xa0\" + \"- ports:\\n\" + 12*\"\\xa0\" + f\"- port: \\\"{port}\\\"\\n\" + 14*\"\\xa0\" + f\"protocol: {proto}\\n\" + \"\\n---\\n\")\n",
    "        elif (endpoin.find(\"gazprom-neft.local\") == True):\n",
    "            # Значение является FQDN\n",
    "            with open(f\"{name_policy}.yml\", \"a\") as file:\n",
    "                file.write(\"apiVersion: cilium.io/v2\\n\" + \"kind: CiliumNetworkPolicy\\n\" + \"metadata:\\n\" + 2*\"\\xa0\" + f\"name: {name_policy}-{number}\\n\"+ 2*\"\\xa0\" + f\"namespace: {namespace}\\n\" + \"spec:\\n\" + 2*\"\\xa0\" + \"endpointSelector:\\n\" + 4*\"\\xa0\" + \"matchLabels:\\n\" + 6*\"\\xa0\" + f\"app: {app}\\n\" + 2*\"\\xa0\" + \"ingress:\\n\" + 4*\"\\xa0\" + \"- {}\\n\" + 2*\"\\xa0\" + \"egress:\\n\" + 4*\"\\xa0\" + \"- toFQDNs:\\n\"  + 8*\"\\xa0\" + f\"- matchName: {endpoin}\\n\" + 6*\"\\xa0\" + \"toPorts:\\n\" + 8*\"\\xa0\" + \"- ports:\\n\" + 12*\"\\xa0\" + f\"- port: \\\"{port}\\\"\\n\" + 14*\"\\xa0\" + f\"protocol: {proto}\\n\" + \"\\n---\\n\")\n",
    "        elif (endpoin.endswith(\"/\") == True):\n",
    "            # Значение является Namespace/app\n",
    "            with open(f\"{name_policy}.yml\", \"a\") as file:\n",
    "                file.write(\"apiVersion: cilium.io/v2\\n\" + \"kind: CiliumNetworkPolicy\\n\" + \"metadata:\\n\" + 2*\"\\xa0\" + f\"name: {name_policy}-{number}\\n\"+ 2*\"\\xa0\" + f\"namespace: {namespace}\\n\" + \"spec:\\n\" + 2*\"\\xa0\" + \"endpointSelector:\\n\" + 4*\"\\xa0\" + \"matchLabels:\\n\" + 6*\"\\xa0\" + f\"app: {app}\\n\" + 2*\"\\xa0\" + \"ingress:\\n\" + 4*\"\\xa0\" + \"- {}\\n\" + 2*\"\\xa0\" + \"egress:\\n\" + 4*\"\\xa0\" + \"- toEndpoints:\\n\"  + 8*\"\\xa0\" + \"- matchLabels:\\n\" + 12*\"\\xa0\" + f\"app: {endpoin}\\n\" + 12*\"\\xa0\" + f\"io.kubernetes.pod.namespace: {namespace}\" + 6*\"\\xa0\" + \"toPorts:\\n\" + 8*\"\\xa0\" + \"- ports:\\n\" + 12*\"\\xa0\" + f\"- port: \\\"{port}\\\"\\n\" + 14*\"\\xa0\" + f\"protocol: {proto}\\n\" + \"\\n---\\n\")\n",
    "        elif (endpoin.find(\"app:\")):\n",
    "            # Значение является app= в рамках текущего namespace\n",
    "            with open(f\"{name_policy}.yml\", \"a\") as file:\n",
    "                file.write(\"apiVersion: cilium.io/v2\\n\" + \"kind: CiliumNetworkPolicy\\n\" + \"metadata:\\n\" + 2*\"\\xa0\" + f\"name: {name_policy}-{number}\\n\"+ 2*\"\\xa0\" + f\"namespace: {namespace}\\n\" + \"spec:\\n\" + 2*\"\\xa0\" + \"endpointSelector:\\n\" + 4*\"\\xa0\" + \"matchLabels:\\n\" + 6*\"\\xa0\" + f\"app: {app}\\n\" + 2*\"\\xa0\" + \"ingress:\\n\" + 4*\"\\xa0\" + \"- {}\\n\" + 2*\"\\xa0\" + \"egress:\\n\" + 4*\"\\xa0\" + \"- toEndpoints:\\n\"  + 8*\"\\xa0\" + \"- matchLabels:\\n\" + 12*\"\\xa0\" + f\"app: {endpoin}\\n\" + 6*\"\\xa0\" + \"toPorts:\\n\" + 8*\"\\xa0\" + \"- ports:\\n\" + 12*\"\\xa0\" + f\"- port: \\\"{port}\\\"\\n\" + 14*\"\\xa0\" + f\"protocol: {proto}\\n\" + \"\\n---\\n\")\n",
    "        else:\n",
    "            # Значение является app= в рамках текущего namespace\n",
    "            with open(\"hello.txt\", \"a\") as file:\n",
    "                file.write(4*\"\\xa0\" + \"- toEndpoints:\\n\"  + 8*\"\\xa0\" + \"- matchLabels:\\n\" + 12*\"\\xa0\" + f\"app: {endpoin}\\n\" + 6*\"\\xa0\" + \"toPorts:\\n\" + 8*\"\\xa0\" + \"- ports:\\n\" + 12*\"\\xa0\" + f\"- port: \\\"{port}\\\"\\n\" + 14*\"\\xa0\" + f\"protocol: {proto}\\n\" + \"\\n---\\n\")\n",
    "    def ingress (self, namespace, name_policy, number, proto, app, endpoin, port):\n",
    "        if (endpoin.endswith(\"/32\") == True):\n",
    "            # Значение является CIDR\n",
    "            with open(f\"{name_policy}.yml\", \"a\") as file:\n",
    "                file.write(\"apiVersion: cilium.io/v2\\n\" + \"kind: CiliumNetworkPolicy\\n\" + \"metadata:\\n\" + 2*\"\\xa0\" + f\"name: {name_policy}-{number}\\n\"+ 2*\"\\xa0\" + f\"namespace: {namespace}\\n\" + \"spec:\\n\" + 2*\"\\xa0\" + \"endpointSelector:\\n\" + 4*\"\\xa0\" + \"matchLabels:\\n\" + 6*\"\\xa0\" + f\"app: {app}\\n\" + 2*\"\\xa0\" + \"ingress:\\n\" + 4*\"\\xa0\" + \"- fromCIDRSet:\\n\"  + 8*\"\\xa0\" + f\"- cidr: {endpoin}\\n\" + 6*\"\\xa0\" + \"toPorts:\\n\" + 8*\"\\xa0\" + \"- ports:\\n\" + 12*\"\\xa0\" + f\"- port: \\\"{port}\\\"\\n\" + 14*\"\\xa0\" + f\"protocol: {proto}\\n\" +  \"egress:\\n\" + 4*\"\\xa0\" + \"- {}\\n\" + \"\\n---\\n\")\n",
    "        elif (endpoin.find(\"gazprom-neft.local\") != -1):\n",
    "            # Значение является FQDN\n",
    "            with open(f\"{name_policy}.yml\", \"a\") as file:\n",
    "                file.write(\"FQDN не может указываться при значении ingress в качестве источника трафика. Необходимо указание по CIDR или по Namespace/app.\" + f\" Ошибка в строчке {number}\" + \"\\n---\\n\")\n",
    "        elif (endpoin.endswith(\"/\") == True):\n",
    "            # Значение является Namespace/app\n",
    "            with open(f\"{name_policy}.yml\", \"a\") as file:\n",
    "                file.write(\"apiVersion: cilium.io/v2\\n\" + \"kind: CiliumNetworkPolicy\\n\" + \"metadata:\\n\" + 2*\"\\xa0\" + f\"name: {name_policy}-{number}\\n\"+ 2*\"\\xa0\" + f\"namespace: {namespace}\\n\" + \"spec:\\n\" + 2*\"\\xa0\" + \"endpointSelector:\\n\" + 4*\"\\xa0\" + \"matchLabels:\\n\" + 6*\"\\xa0\" + f\"app: {app}\\n\" + 2*\"\\xa0\" + \"ingress:\\n\" + 4*\"\\xa0\" + \"- fromEndpoints:\\n\"  + 8*\"\\xa0\" + \"- matchLabels:\\n\" + 12*\"\\xa0\" + f\"app: {endpoin}\\n\" + 12*\"\\xa0\" + f\"io.kubernetes.pod.namespace: {namespace}\" + 6*\"\\xa0\" + \"toPorts:\\n\" + 8*\"\\xa0\" + \"- ports:\\n\" + 12*\"\\xa0\" + f\"- port: \\\"{port}\\\"\\n\" + 14*\"\\xa0\" + f\"protocol: {proto}\\n\" +  \"egress:\\n\" + 4*\"\\xa0\" + \"- {}\\n\" + \"\\n---\\n\")\n",
    "        elif (endpoin.find(\"app:\")):\n",
    "            # Значение является app= в рамках текущего namespace\n",
    "            with open(f\"{name_policy}.yml\", \"a\") as file:\n",
    "                file.write(\"apiVersion: cilium.io/v2\\n\" + \"kind: CiliumNetworkPolicy\\n\" + \"metadata:\\n\" + 2*\"\\xa0\" + f\"name: {name_policy}-{number}\\n\"+ 2*\"\\xa0\" + f\"namespace: {namespace}\\n\" + \"spec:\\n\" + 2*\"\\xa0\" + \"endpointSelector:\\n\" + 4*\"\\xa0\" + \"matchLabels:\\n\" + 6*\"\\xa0\" + f\"app: {app}\\n\" + 2*\"\\xa0\" + \"ingress:\\n\" + 4*\"\\xa0\" + \"- fromEndpoints:\\n\"  + 8*\"\\xa0\" + \"- matchLabels:\\n\" + 12*\"\\xa0\" + f\"app: {endpoin}\\n\" + 6*\"\\xa0\" + \"toPorts:\\n\" + 8*\"\\xa0\" + \"- ports:\\n\" + 12*\"\\xa0\" + f\"- port: \\\"{port}\\\"\\n\" + 14*\"\\xa0\" + f\"protocol: {proto}\\n\" +  \"egress:\\n\" + 4*\"\\xa0\" + \"- {}\\n\" + \"\\n---\\n\")\n",
    "        else:\n",
    "            # Значение является app= в рамках текущего namespace\n",
    "            with open(f\"{name_policy}.yml\", \"a\") as file:\n",
    "                file.write(\"apiVersion: cilium.io/v2\\n\" + \"kind: CiliumNetworkPolicy\\n\" + \"metadata:\\n\" + 2*\"\\xa0\" + f\"name: {name_policy}-{number}\\n\"+ 2*\"\\xa0\" + f\"namespace: {namespace}\\n\" + \"spec:\\n\" + 2*\"\\xa0\" + \"endpointSelector:\\n\" + 4*\"\\xa0\" + \"matchLabels:\\n\" + 6*\"\\xa0\" + f\"app: {app}\\n\" + 2*\"\\xa0\" + \"ingress:\\n\" + 4*\"\\xa0\" + \"- fromEndpoints:\\n\"  + 8*\"\\xa0\" + \"- matchLabels:\\n\" + 12*\"\\xa0\" + f\"app: {endpoin}\\n\" + 6*\"\\xa0\" + \"toPorts:\\n\" + 8*\"\\xa0\" + \"- ports:\\n\" + 12*\"\\xa0\" + f\"- port: \\\"{port}\\\"\\n\" + 14*\"\\xa0\" + f\"protocol: {proto}\\n\" +  \"egress:\\n\" + 4*\"\\xa0\" + \"- {}\\n\" + \"\\n---\\n\")\n",
    "    def err (self,name_policy, number):\n",
    "        with open(f\"{name_policy}.yml\", \"a\") as file:\n",
    "            file.write(\"\\n Ошибка чтения значения ingress/egress в строке = \" + f\"{number}\" + 2*\"\\n\")"
   ]
  },
  {
   "cell_type": "code",
   "execution_count": 62,
   "id": "445f988e-7b5a-44ae-85b7-579f4149164c",
   "metadata": {},
   "outputs": [],
   "source": [
    "# Инициализация чтения таблицы\n",
    "file_path = \"cilium1.xlsx\"\n",
    "workbook = load_workbook(filename=file_path, data_only=True, read_only=True)\n",
    "workbook.sheetnames\n",
    "sheet = workbook.active"
   ]
  },
  {
   "cell_type": "code",
   "execution_count": 63,
   "id": "cae6c543-e85b-48a0-a086-f7dd79c2a734",
   "metadata": {},
   "outputs": [],
   "source": [
    "convert = Convert()"
   ]
  },
  {
   "cell_type": "code",
   "execution_count": 64,
   "id": "6671cb9f-ed20-4336-9883-6929af058c54",
   "metadata": {},
   "outputs": [],
   "source": [
    "# Получение namespace из объединеннной строки под индексом А2x\n",
    "namespace = sheet[\"A2\"].value\n",
    "namespace = namespace.lower()\n",
    "len_namespace = len(namespace)\n",
    "index_u = namespace.find('u')\n",
    "namespace = namespace[index_u:len_namespace]"
   ]
  },
  {
   "cell_type": "code",
   "execution_count": 65,
   "id": "35b118ce-d98e-4900-8be1-a81c0ad4ad34",
   "metadata": {},
   "outputs": [],
   "source": [
    "# Создание номера правила из имени файла\n",
    "name_policy = file_path[0:file_path.find(\".\")].lower()"
   ]
  },
  {
   "cell_type": "code",
   "execution_count": 66,
   "id": "e22a578d-0492-4c60-9f73-e8301d408bf9",
   "metadata": {},
   "outputs": [],
   "source": [
    "# Перебор строк в таблитце до первой пустой строки. Начало с 3 строки таблицы включительно\n",
    "i = 3\n",
    "while sheet[f'A{i}'].value is not None:\n",
    "    if  sheet[\"D\"+str(i)].value == \"ingress\":\n",
    "        convert.ingress (namespace, name_policy, sheet[\"A\"+str(i)].value, sheet[\"B\"+str(i)].value, sheet[\"C\"+str(i)].value, sheet[\"E\"+str(i)].value, sheet[\"F\"+str(i)].value)\n",
    "    elif sheet[\"D\"+str(i)].value == \"egress\":\n",
    "        convert.egress (namespace, name_policy, sheet[\"A\"+str(i)].value, sheet[\"B\"+str(i)].value, sheet[\"C\"+str(i)].value, sheet[\"E\"+str(i)].value, sheet[\"F\"+str(i)].value)\n",
    "    else:\n",
    "        convert.err (name_policy, sheet[\"A\"+str(i)].value)\n",
    "    i += 1\n"
   ]
  },
  {
   "cell_type": "code",
   "execution_count": 24,
   "id": "dc910eb1-0b9e-4114-95b7-9b6b417709f1",
   "metadata": {},
   "outputs": [],
   "source": [
    "# Закрытие файла excel таблицы\n",
    "workbook.close()"
   ]
  },
  {
   "cell_type": "code",
   "execution_count": 45,
   "id": "a2f80199-ddae-442b-b6a4-9e9a8a74a725",
   "metadata": {},
   "outputs": [
    {
     "name": "stdout",
     "output_type": "stream",
     "text": [
      "work\n"
     ]
    }
   ],
   "source": [
    "test = \"FWEFD3421QWE.gazprom-neft.local\"\n",
    "if test.find(\"gazprom-neft.local\") != -1:\n",
    "    print(\"work\")\n",
    "else:\n",
    "    print(\"error\")\n"
   ]
  },
  {
   "cell_type": "code",
   "execution_count": null,
   "id": "e17ad3f3-968d-4949-8930-338ebfdaa937",
   "metadata": {},
   "outputs": [],
   "source": []
  }
 ],
 "metadata": {
  "kernelspec": {
   "display_name": "Python 3 (ipykernel)",
   "language": "python",
   "name": "python3"
  },
  "language_info": {
   "codemirror_mode": {
    "name": "ipython",
    "version": 3
   },
   "file_extension": ".py",
   "mimetype": "text/x-python",
   "name": "python",
   "nbconvert_exporter": "python",
   "pygments_lexer": "ipython3",
   "version": "3.12.8"
  }
 },
 "nbformat": 4,
 "nbformat_minor": 5
}
